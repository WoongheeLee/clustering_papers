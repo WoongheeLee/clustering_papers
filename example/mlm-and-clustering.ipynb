{
 "cells": [
  {
   "cell_type": "code",
   "execution_count": 20,
   "metadata": {},
   "outputs": [],
   "source": [
    "import os\n",
    "os.environ['CUDA_VISIBLE_DEVICES'] = '0'\n",
    "\n",
    "import pickle\n",
    "\n",
    "import torch\n",
    "import torch.nn.functional as F\n",
    "\n",
    "from transformers import (\n",
    "    BertTokenizer, \n",
    "    BertForMaskedLM,\n",
    "    AdamW\n",
    ")\n",
    "\n",
    "import time\n",
    "import IPython.display as ipd\n",
    "import matplotlib.pyplot as plt\n",
    "%matplotlib inline\n",
    "from tqdm.auto import tqdm"
   ]
  },
  {
   "cell_type": "markdown",
   "metadata": {},
   "source": [
    "# constant"
   ]
  },
  {
   "cell_type": "code",
   "execution_count": 2,
   "metadata": {},
   "outputs": [
    {
     "name": "stdout",
     "output_type": "stream",
     "text": [
      "EPOCHS 2\n",
      "BATCH_SIZE 8\n",
      "LR 5e-05\n",
      "DEVICE cuda\n",
      "PRE_BERT allenai/scibert_scivocab_cased\n"
     ]
    }
   ],
   "source": [
    "EPOCHS = 2\n",
    "BATCH_SIZE = 2**3\n",
    "LR = 5e-5\n",
    "DEVICE = 'cuda' if torch.cuda.is_available else 'cpu'\n",
    "PRE_BERT = 'allenai/scibert_scivocab_cased'\n",
    "\n",
    "print('EPOCHS', EPOCHS)\n",
    "print('BATCH_SIZE', BATCH_SIZE)\n",
    "print('LR', LR)\n",
    "print('DEVICE', DEVICE)\n",
    "print('PRE_BERT', PRE_BERT)"
   ]
  },
  {
   "cell_type": "markdown",
   "metadata": {},
   "source": [
    "# data"
   ]
  },
  {
   "cell_type": "code",
   "execution_count": 3,
   "metadata": {},
   "outputs": [],
   "source": [
    "with open('../data/emnlp2022.pkl', 'rb') as f:\n",
    "    papers = pickle.load(f)\n",
    "    \n",
    "titles = sorted(papers.keys())\n",
    "    \n",
    "sentences = [t+' '+papers.get(t) for t in titles]"
   ]
  },
  {
   "cell_type": "code",
   "execution_count": 4,
   "metadata": {},
   "outputs": [],
   "source": [
    "tokenizer = BertTokenizer.from_pretrained(PRE_BERT)"
   ]
  },
  {
   "cell_type": "code",
   "execution_count": 5,
   "metadata": {},
   "outputs": [
    {
     "name": "stderr",
     "output_type": "stream",
     "text": [
      "lib/python3.7/site-packages/transformers/tokenization_utils_base.py:2291: FutureWarning: The `pad_to_max_length` argument is deprecated and will be removed in a future version, use `padding=True` or `padding='longest'` to pad to the longest sequence in the batch, or use `padding='max_length'` to pad to a max length. In this case, you can give a specific length with `max_length` (e.g. `max_length=45`) or leave max_length to None to pad to the maximal input size of the model (e.g. 512 for Bert).\n",
      "  FutureWarning,\n"
     ]
    }
   ],
   "source": [
    "inputs = tokenizer(\n",
    "    sentences, \n",
    "    truncation_strategy='do_not_truncate',\n",
    "    pad_to_max_length=True,\n",
    "    return_tensors='pt'\n",
    ")\n",
    "\n",
    "inputs['labels'] = inputs.input_ids.detach().clone()\n",
    "\n",
    "rand = torch.rand(inputs.input_ids.shape)\n",
    "mask_arr = rand < .15\n",
    "mask_arr = (rand < 0.15) * (inputs.input_ids != 101) * (inputs.input_ids != 102)\n",
    "selection = torch.flatten((mask_arr[0]).nonzero()).tolist()\n",
    "inputs.input_ids[0, selection] = tokenizer.mask_token_id"
   ]
  },
  {
   "cell_type": "code",
   "execution_count": 6,
   "metadata": {},
   "outputs": [],
   "source": [
    "class MyDataSet(torch.utils.data.Dataset):\n",
    "    def __init__(self, encodings):\n",
    "        self.encodings = encodings\n",
    "    \n",
    "    def __len__(self):\n",
    "        return len(self.encodings.input_ids)\n",
    "    \n",
    "    def __getitem__(self, idx):\n",
    "        return {key: torch.tensor(val[idx]) for key, val in self.encodings.items()}\n",
    "    \n",
    "dataset = MyDataSet(inputs)\n",
    "dataloader = torch.utils.data.DataLoader(\n",
    "    dataset, \n",
    "    batch_size=BATCH_SIZE,\n",
    "    shuffle=True\n",
    ")"
   ]
  },
  {
   "cell_type": "markdown",
   "metadata": {},
   "source": [
    "# model"
   ]
  },
  {
   "cell_type": "code",
   "execution_count": 7,
   "metadata": {},
   "outputs": [
    {
     "name": "stderr",
     "output_type": "stream",
     "text": [
      "Some weights of the model checkpoint at allenai/scibert_scivocab_cased were not used when initializing BertForMaskedLM: ['cls.seq_relationship.bias', 'cls.seq_relationship.weight']\n",
      "- This IS expected if you are initializing BertForMaskedLM from the checkpoint of a model trained on another task or with another architecture (e.g. initializing a BertForSequenceClassification model from a BertForPreTraining model).\n",
      "- This IS NOT expected if you are initializing BertForMaskedLM from the checkpoint of a model that you expect to be exactly identical (initializing a BertForSequenceClassification model from a BertForSequenceClassification model).\n"
     ]
    },
    {
     "data": {
      "text/plain": [
       "'DONE'"
      ]
     },
     "execution_count": 7,
     "metadata": {},
     "output_type": "execute_result"
    }
   ],
   "source": [
    "model = BertForMaskedLM.from_pretrained(PRE_BERT)\n",
    "model.to(DEVICE)\n",
    "'DONE'"
   ]
  },
  {
   "cell_type": "markdown",
   "metadata": {},
   "source": [
    "# train"
   ]
  },
  {
   "cell_type": "code",
   "execution_count": 8,
   "metadata": {},
   "outputs": [
    {
     "name": "stderr",
     "output_type": "stream",
     "text": [
      "lib/python3.7/site-packages/transformers/optimization.py:309: FutureWarning: This implementation of AdamW is deprecated and will be removed in a future version. Use the PyTorch implementation torch.optim.AdamW instead, or set `no_deprecation_warning=True` to disable this warning\n",
      "  FutureWarning,\n"
     ]
    }
   ],
   "source": [
    "optim = AdamW(model.parameters(), lr=LR)"
   ]
  },
  {
   "cell_type": "code",
   "execution_count": 9,
   "metadata": {},
   "outputs": [],
   "source": [
    "def train():\n",
    "    loss_list = list()\n",
    "\n",
    "    for e in range(EPOCHS):\n",
    "        e_start = time.time()\n",
    "\n",
    "        for i, d in enumerate(dataloader):\n",
    "#             b_start = time.time()\n",
    "            optim.zero_grad()\n",
    "\n",
    "            input_ids = d.get('input_ids').to(DEVICE)\n",
    "            attention_mask = d.get('attention_mask').to(DEVICE)\n",
    "            labels = d.get('labels').to(DEVICE)\n",
    "\n",
    "            outputs = model(input_ids, attention_mask=attention_mask, labels=labels)\n",
    "\n",
    "            loss = outputs.loss\n",
    "            loss_list.append(loss.item())\n",
    "            loss.backward()\n",
    "            optim.step()\n",
    "\n",
    "        ipd.clear_output(wait=True)\n",
    "#         print(f\"{i+1}/{len(dataloader)}-th\")\n",
    "        print(f\"batch {e+1}/{EPOCHS} EPOCH\")\n",
    "        print(f\"{time.time()-e_start:.2f} sec/epoch\")\n",
    "#         print(f\"{time.time()-b_start:.2f} sec/batch\")\n",
    "        plt.figure(figsize=(10, 2))\n",
    "        plt.plot(loss_list)\n",
    "        plt.title(f\"{loss_list[-1]:.4f}\")\n",
    "        plt.show()"
   ]
  },
  {
   "cell_type": "code",
   "execution_count": 10,
   "metadata": {},
   "outputs": [
    {
     "name": "stdout",
     "output_type": "stream",
     "text": [
      "batch 2/2 EPOCH\n",
      "42.54 sec/epoch\n"
     ]
    },
    {
     "data": {
      "image/png": "[encoded data removed]",
      "text/plain": [
       "<Figure size 720x144 with 1 Axes>"
      ]
     },
     "metadata": {
      "needs_background": "light"
     },
     "output_type": "display_data"
    }
   ],
   "source": [
    "# train()"
   ]
  },
  {
   "cell_type": "code",
   "execution_count": 11,
   "metadata": {},
   "outputs": [],
   "source": [
    "# o = model.bert(inputs.get('input_ids')[:1].to(DEVICE))[0][0, 0].cpu().detach()\n",
    "# t = F.tanh(o)\n",
    "# plt.figure(figsize=(20,3))\n",
    "# plt.plot(o.numpy(), label='original')\n",
    "# plt.plot(t.numpy(), label='tanh', alpha=.75)\n",
    "# plt.legend()\n",
    "# plt.show()"
   ]
  },
  {
   "cell_type": "code",
   "execution_count": 12,
   "metadata": {},
   "outputs": [],
   "source": [
    "# torch.save(model.bert.state_dict(), '../my_ckpt/emnlpbert')"
   ]
  },
  {
   "cell_type": "code",
   "execution_count": 13,
   "metadata": {},
   "outputs": [],
   "source": [
    "# model.bert.load_state_dict(torch.load('../my_ckpt/emnlpbert'))"
   ]
  },
  {
   "cell_type": "markdown",
   "metadata": {},
   "source": [
    "# clustering"
   ]
  },
  {
   "cell_type": "code",
   "execution_count": 22,
   "metadata": {},
   "outputs": [
    {
     "data": {
      "application/vnd.jupyter.widget-view+json": {
       "model_id": "4e7a8c5cac174e3eb6e928de1b92ddc3",
       "version_major": 2,
       "version_minor": 0
      },
      "text/plain": [
       "  0%|          | 0/825 [00:00<?, ?it/s]"
      ]
     },
     "metadata": {},
     "output_type": "display_data"
    },
    {
     "data": {
      "text/plain": [
       "825"
      ]
     },
     "execution_count": 22,
     "metadata": {},
     "output_type": "execute_result"
    }
   ],
   "source": [
    "def get_hiddens():\n",
    "    hiddens = []\n",
    "    for i in tqdm(range(len(inputs.get('labels')))):\n",
    "        input_ids = inputs.get('labels')[i:i+1].to(DEVICE)\n",
    "        o = model.bert(input_ids)[0]\n",
    "        o = F.tanh(o[0, 0])\n",
    "        hiddens.append(o.detach().cpu().numpy())\n",
    "\n",
    "    return hiddens\n",
    "\n",
    "hiddens = get_hiddens()\n",
    "len(hiddens)"
   ]
  },
  {
   "cell_type": "code",
   "execution_count": 23,
   "metadata": {},
   "outputs": [],
   "source": [
    "from sklearn.cluster import KMeans as Cluster\n",
    "import numpy as np"
   ]
  },
  {
   "cell_type": "code",
   "execution_count": 41,
   "metadata": {},
   "outputs": [],
   "source": [
    "n_clusters = 100"
   ]
  },
  {
   "cell_type": "code",
   "execution_count": 38,
   "metadata": {},
   "outputs": [],
   "source": [
    "cluster = Cluster(n_clusters=n_clusters, random_state=0)"
   ]
  },
  {
   "cell_type": "code",
   "execution_count": 39,
   "metadata": {},
   "outputs": [
    {
     "data": {
      "text/plain": [
       "KMeans(n_clusters=100, random_state=0)"
      ]
     },
     "execution_count": 39,
     "metadata": {},
     "output_type": "execute_result"
    }
   ],
   "source": [
    "cluster.fit(hiddens)"
   ]
  },
  {
   "cell_type": "code",
   "execution_count": 48,
   "metadata": {},
   "outputs": [],
   "source": [
    "for n in range(n_clusters):\n",
    "    with open(f'../cluster/emnlp2022/{n:02d}.txt', 'wt') as f:\n",
    "        indices = np.where(cluster.labels_==n)\n",
    "        for idx in indices[0]:\n",
    "            f.write('='*100)\n",
    "            f.write('\\n')\n",
    "            t = titles[idx]\n",
    "            f.write(t+'\\n'+'\\t'+papers.get(t))\n",
    "            f.write('\\n')"
   ]
  }
 ],
 "metadata": {
  "kernelspec": {
   "display_name": "Python 3",
   "language": "python",
   "name": "python3"
  },
  "language_info": {
   "codemirror_mode": {
    "name": "ipython",
    "version": 3
   },
   "file_extension": ".py",
   "mimetype": "text/x-python",
   "name": "python",
   "nbconvert_exporter": "python",
   "pygments_lexer": "ipython3",
   "version": "3.7.7"
  }
 },
 "nbformat": 4,
 "nbformat_minor": 4
}
